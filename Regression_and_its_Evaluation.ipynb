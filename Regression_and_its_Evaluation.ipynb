{
  "nbformat": 4,
  "nbformat_minor": 0,
  "metadata": {
    "colab": {
      "provenance": []
    },
    "kernelspec": {
      "name": "python3",
      "display_name": "Python 3"
    },
    "language_info": {
      "name": "python"
    }
  },
  "cells": [
    {
      "cell_type": "markdown",
      "source": [
        "# Regression and its Evaluation"
      ],
      "metadata": {
        "id": "KlcNdDRXB87B"
      }
    },
    {
      "cell_type": "markdown",
      "source": [
        "1. What is Simple Linear Regression?\n",
        "\n",
        "  -> Simple Linear Regression is one of the most basic statistical and machine learning techniques used to study the relationship between two variables that is : INDEPENDENT VARIABLE and DEPENDANT VARIABLE. It assumes that the relationship between them can be represented by a straight line.\n",
        "\n",
        "\n",
        "2.  What are the key assumptions of Simple Linear Regression?\n",
        "\n",
        "   -> 1. Linearity\n",
        "\n",
        "  The relationship between the independent variable\n",
        "𝑋\n",
        "X and the dependent variable\n",
        "𝑌\n",
        "Y is linear.\n",
        "\n",
        "This means\n",
        "𝑌\n",
        "changes at a constant rate with respect to\n",
        "𝑋\n",
        "\n",
        "  2. Independence of Errors (No Autocorrelation)\n",
        "\n",
        "The residuals (errors,\n",
        "𝜀\n",
        "ε) are independent of each other.\n",
        "\n",
        "   3. Homoscedasticity (Constant Variance of Errors)\n",
        "\n",
        "The variance of residuals should remain constant across all values of\n",
        "𝑋\n",
        "X.\n",
        "\n",
        "If variance increases or decreases with\n",
        "𝑋\n",
        "X (called heteroscedasticity), estimates become inefficient.\n",
        "\n",
        "  4. No Perfect Multicollinearity.\n",
        "\n",
        "  5. Exogeneity (No Omitted Variable Bias)\n",
        "\n",
        "The independent variable\n",
        "𝑋\n",
        "X should not be correlated with the error term\n",
        "𝜀\n",
        "ε.\n",
        "\n",
        "If there are missing important predictors, this assumption is violated, leading to biased estimates.\n",
        "\n",
        "\n",
        "3. What is heteroscedasticity, and why is it important to address in regression\n",
        "models?\n",
        "\n",
        "   -> Heteroscedasticity occurs when the variance of the error terms (residuals) is not constant across all levels of the independent variable(s).\n",
        "        \n",
        "     i. Does not bias coefficient estimates.\n",
        "\n",
        "     ii. But makes them inefficient.\n",
        "\n",
        "     iii. Invalid statistical inference.\n",
        "\n",
        "4. What is Multiple Linear Regression?\n",
        "\n",
        "   -> Multiple Linear Regression (MLR) is a statistical technique used to model the relationship between a dependent variable (Y) and two or more independent (predictor) variables (X₁, X₂, …, Xₖ).\n",
        "\n",
        " It estimates how each independent variable affects the dependent variable, holding the other variables constant.\n",
        "\n",
        "\n",
        "5. What is polynomial regression, and how does it differ from linear\n",
        "regression?\n",
        "  \n",
        "   -> Polynomial Regression is a type of regression analysis in which the relationship between the independent variable\n",
        " 𝑋\n",
        "and the dependent variable\n",
        "𝑌\n",
        "is modeled as an nth-degree polynomial.\n",
        "\n",
        "\n",
        "6. Implement a Python program to fit a Simple Linear Regression model to\n",
        "the following sample data:\n",
        "● X = [1, 2, 3, 4, 5]\n",
        "● Y = [2.1, 4.3, 6.1, 7.9, 10.2]"
      ],
      "metadata": {
        "id": "GXT4xeY2CP8t"
      }
    },
    {
      "cell_type": "code",
      "execution_count": 1,
      "metadata": {
        "colab": {
          "base_uri": "https://localhost:8080/",
          "height": 509
        },
        "id": "1HJalNwuBs6U",
        "outputId": "859c1f1a-0bf4-49a8-955a-34a9889ed801"
      },
      "outputs": [
        {
          "output_type": "stream",
          "name": "stdout",
          "text": [
            "Intercept (β0): 0.17999999999999794\n",
            "Slope (β1): 1.9800000000000004\n"
          ]
        },
        {
          "output_type": "display_data",
          "data": {
            "text/plain": [
              "<Figure size 640x480 with 1 Axes>"
            ],
            "image/png": "[encoded data removed]"
          },
          "metadata": {}
        }
      ],
      "source": [
        "import numpy as np\n",
        "import matplotlib.pyplot as plt\n",
        "from sklearn.linear_model import LinearRegression\n",
        "\n",
        "# Sample data\n",
        "X = np.array([1, 2, 3, 4, 5]).reshape(-1, 1)  # reshape for sklearn\n",
        "Y = np.array([2.1, 4.3, 6.1, 7.9, 10.2])\n",
        "\n",
        "# Create and fit the model\n",
        "model = LinearRegression()\n",
        "model.fit(X, Y)\n",
        "\n",
        "# Predictions\n",
        "Y_pred = model.predict(X)\n",
        "\n",
        "# Coefficients\n",
        "print(\"Intercept (β0):\", model.intercept_)\n",
        "print(\"Slope (β1):\", model.coef_[0])\n",
        "\n",
        "# Visualization\n",
        "plt.scatter(X, Y, color='blue', label=\"Actual Data\")\n",
        "plt.plot(X, Y_pred, color='red', label=\"Regression Line\")\n",
        "plt.xlabel(\"X\")\n",
        "plt.ylabel(\"Y\")\n",
        "plt.title(\"Simple Linear Regression\")\n",
        "plt.legend()\n",
        "plt.show()\n"
      ]
    },
    {
      "cell_type": "markdown",
      "source": [
        "7. Fit a Multiple Linear Regression model on this sample data:\n",
        "● Area = [1200, 1500, 1800, 2000]\n",
        "● Rooms = [2, 3, 3, 4]\n",
        "● Price = [250000, 300000, 320000, 370000]\n",
        "Check for multicollinearity using VIF and report the results.\n"
      ],
      "metadata": {
        "id": "opLxz-fkccNE"
      }
    },
    {
      "cell_type": "code",
      "source": [
        "import numpy as np\n",
        "import pandas as pd\n",
        "import statsmodels.api as sm\n",
        "from statsmodels.stats.outliers_influence import variance_inflation_factor\n",
        "\n",
        "# Sample data\n",
        "data = {\n",
        "    \"Area\": [1200, 1500, 1800, 2000],\n",
        "    \"Rooms\": [2, 3, 3, 4],\n",
        "    \"Price\": [250000, 300000, 320000, 370000]\n",
        "}\n",
        "\n",
        "df = pd.DataFrame(data)\n",
        "\n",
        "# Independent variables (X) and dependent variable (Y)\n",
        "X = df[[\"Area\", \"Rooms\"]]\n",
        "Y = df[\"Price\"]\n",
        "\n",
        "# Add constant for intercept\n",
        "X_const = sm.add_constant(X)\n",
        "\n",
        "# Fit the regression model\n",
        "model = sm.OLS(Y, X_const).fit()\n",
        "\n",
        "# Print summary\n",
        "print(model.summary())\n",
        "\n",
        "# ---- Checking Multicollinearity (VIF) ----\n",
        "vif_data = pd.DataFrame()\n",
        "vif_data[\"Feature\"] = X_const.columns\n",
        "vif_data[\"VIF\"] = [variance_inflation_factor(X_const.values, i)\n",
        "                   for i in range(X_const.shape[1])]\n",
        "\n",
        "print(\"\\nVariance Inflation Factors:\")\n",
        "print(vif_data)\n"
      ],
      "metadata": {
        "colab": {
          "base_uri": "https://localhost:8080/"
        },
        "id": "u_tvFYhmcU7N",
        "outputId": "1f00007c-87c2-4c64-e07d-b801cbc9d549"
      },
      "execution_count": 2,
      "outputs": [
        {
          "output_type": "stream",
          "name": "stdout",
          "text": [
            "                            OLS Regression Results                            \n",
            "==============================================================================\n",
            "Dep. Variable:                  Price   R-squared:                       0.999\n",
            "Model:                            OLS   Adj. R-squared:                  0.996\n",
            "Method:                 Least Squares   F-statistic:                     351.0\n",
            "Date:                Thu, 28 Aug 2025   Prob (F-statistic):             0.0377\n",
            "Time:                        06:54:23   Log-Likelihood:                -35.242\n",
            "No. Observations:                   4   AIC:                             76.48\n",
            "Df Residuals:                       1   BIC:                             74.64\n",
            "Df Model:                           2                                         \n",
            "Covariance Type:            nonrobust                                         \n",
            "==============================================================================\n",
            "                 coef    std err          t      P>|t|      [0.025      0.975]\n",
            "------------------------------------------------------------------------------\n",
            "const       1.032e+05   9488.293     10.872      0.058   -1.74e+04    2.24e+05\n",
            "Area          63.1579     14.886      4.243      0.147    -125.992     252.308\n",
            "Rooms       3.474e+04   6381.240      5.444      0.116   -4.63e+04    1.16e+05\n",
            "==============================================================================\n",
            "Omnibus:                          nan   Durbin-Watson:                   2.053\n",
            "Prob(Omnibus):                    nan   Jarque-Bera (JB):                0.554\n",
            "Skew:                          -0.154   Prob(JB):                        0.758\n",
            "Kurtosis:                       1.202   Cond. No.                     1.01e+04\n",
            "==============================================================================\n",
            "\n",
            "Notes:\n",
            "[1] Standard Errors assume that the covariance matrix of the errors is correctly specified.\n",
            "[2] The condition number is large, 1.01e+04. This might indicate that there are\n",
            "strong multicollinearity or other numerical problems.\n",
            "\n",
            "Variance Inflation Factors:\n",
            "  Feature        VIF\n",
            "0   const  34.210526\n",
            "1    Area   7.736842\n",
            "2   Rooms   7.736842\n"
          ]
        },
        {
          "output_type": "stream",
          "name": "stderr",
          "text": [
            "/usr/local/lib/python3.12/dist-packages/statsmodels/stats/stattools.py:74: ValueWarning: omni_normtest is not valid with less than 8 observations; 4 samples were given.\n",
            "  warn(\"omni_normtest is not valid with less than 8 observations; %i \"\n"
          ]
        }
      ]
    },
    {
      "cell_type": "markdown",
      "source": [
        "8. Implement polynomial regression on the following data:\n",
        "● X = [1, 2, 3, 4, 5]\n",
        "3\n",
        "● Y = [2.2, 4.8, 7.5, 11.2, 14.7]\n",
        "Fit a 2nd-degree polynomial and plot the resulting curve."
      ],
      "metadata": {
        "id": "_eqA2YavdOwj"
      }
    },
    {
      "cell_type": "code",
      "source": [
        "import numpy as np\n",
        "import matplotlib.pyplot as plt\n",
        "from sklearn.preprocessing import PolynomialFeatures\n",
        "from sklearn.linear_model import LinearRegression\n",
        "\n",
        "# Sample data\n",
        "X = np.array([1, 2, 3, 4, 5]).reshape(-1, 1)\n",
        "Y = np.array([2.2, 4.8, 7.5, 11.2, 14.7])\n",
        "\n",
        "# Create polynomial features (degree = 2)\n",
        "poly = PolynomialFeatures(degree=2)\n",
        "X_poly = poly.fit_transform(X)\n",
        "\n",
        "# Fit the polynomial regression model\n",
        "model = LinearRegression()\n",
        "model.fit(X_poly, Y)\n",
        "\n",
        "# Predictions\n",
        "X_range = np.linspace(1, 5, 100).reshape(-1, 1)  # smoother curve\n",
        "X_range_poly = poly.transform(X_range)\n",
        "Y_pred = model.predict(X_range_poly)\n",
        "\n",
        "# Coefficients\n",
        "print(\"Intercept (β0):\", model.intercept_)\n",
        "print(\"Coefficients (β1, β2):\", model.coef_[1:])\n",
        "\n",
        "# Plot\n",
        "plt.scatter(X, Y, color='blue', label=\"Actual Data\")\n",
        "plt.plot(X_range, Y_pred, color='red', label=\"Polynomial Fit (degree=2)\")\n",
        "plt.xlabel(\"X\")\n",
        "plt.ylabel(\"Y\")\n",
        "plt.title(\"Polynomial Regression (Quadratic)\")\n",
        "plt.legend()\n",
        "plt.show()\n"
      ],
      "metadata": {
        "colab": {
          "base_uri": "https://localhost:8080/",
          "height": 509
        },
        "id": "YW2dgNbbY2-t",
        "outputId": "5a88fd6b-6411-4e55-ad27-6f3a11221cf8"
      },
      "execution_count": 3,
      "outputs": [
        {
          "output_type": "stream",
          "name": "stdout",
          "text": [
            "Intercept (β0): 0.06000000000000938\n",
            "Coefficients (β1, β2): [1.94 0.2 ]\n"
          ]
        },
        {
          "output_type": "display_data",
          "data": {
            "text/plain": [
              "<Figure size 640x480 with 1 Axes>"
            ],
            "image/png": "[encoded data removed]"
          },
          "metadata": {}
        }
      ]
    },
    {
      "cell_type": "markdown",
      "source": [
        "9. Create a residuals plot for a regression model trained on this data:\n",
        "● X = [10, 20, 30, 40, 50]\n",
        "● Y = [15, 35, 40, 50, 65]\n",
        "Assess heteroscedasticity by examining the spread of residuals."
      ],
      "metadata": {
        "id": "jvGmbINVeYdi"
      }
    },
    {
      "cell_type": "code",
      "source": [
        "import numpy as np\n",
        "import matplotlib.pyplot as plt\n",
        "from sklearn.linear_model import LinearRegression\n",
        "\n",
        "# Sample data\n",
        "X = np.array([10, 20, 30, 40, 50]).reshape(-1, 1)\n",
        "Y = np.array([15, 35, 40, 50, 65])\n",
        "\n",
        "# Fit Linear Regression model\n",
        "model = LinearRegression()\n",
        "model.fit(X, Y)\n",
        "Y_pred = model.predict(X)\n",
        "\n",
        "# Calculate residuals\n",
        "residuals = Y - Y_pred\n",
        "\n",
        "# Plot residuals vs. predicted values\n",
        "plt.scatter(Y_pred, residuals, color='blue')\n",
        "plt.axhline(y=0, color='red', linestyle='--')\n",
        "plt.xlabel(\"Predicted Values\")\n",
        "plt.ylabel(\"Residuals\")\n",
        "plt.title(\"Residuals Plot\")\n",
        "plt.show()\n",
        "\n",
        "# Print residuals for inspection\n",
        "print(\"Residuals:\", residuals)\n"
      ],
      "metadata": {
        "colab": {
          "base_uri": "https://localhost:8080/",
          "height": 490
        },
        "id": "dWEwELz1eTiM",
        "outputId": "25d0b4e4-72cd-4682-9c5c-962f9ca9ddd9"
      },
      "execution_count": 4,
      "outputs": [
        {
          "output_type": "display_data",
          "data": {
            "text/plain": [
              "<Figure size 640x480 with 1 Axes>"
            ],
            "image/png": "[encoded data removed]"
          },
          "metadata": {}
        },
        {
          "output_type": "stream",
          "name": "stdout",
          "text": [
            "Residuals: [-3.   5.5 -1.  -2.5  1. ]\n"
          ]
        }
      ]
    },
    {
      "cell_type": "markdown",
      "source": [
        "10. Imagine you are a data scientist working for a real estate company. You\n",
        "need to predict house prices using features like area, number of rooms, and location.\n",
        "However, you detect heteroscedasticity and multicollinearity in your regression\n",
        "model. Explain the steps you would take to address these issues and ensure a robust\n",
        "model.\n",
        "\n",
        "\n",
        "  -> 1. Addressing Heteroscedasticity\n",
        "\n",
        "   Problem:\n",
        "\n",
        "Residuals spread unevenly — e.g., expensive houses have much larger prediction errors than cheap houses.\n",
        "\n",
        " Solutions:\n",
        "\n",
        "Data Transformation:\n",
        "\n",
        "Apply log or square-root transformation on the dependent variable (Price) to stabilize variance.\n",
        "\n",
        "Example: use log(Price) instead of raw Price.\n",
        "\n",
        "Weighted Least Squares (WLS):\n",
        "\n",
        "Assign lower weights to observations with large variance.\n",
        "\n",
        "Robust Standard Errors:\n",
        "\n",
        "Use heteroscedasticity-consistent SEs (e.g., White’s standard errors) so hypothesis testing remains valid.\n",
        "\n",
        "2. Addressing Multicollinearity\n",
        "\n",
        " Problem:\n",
        "\n",
        "Independent variables are strongly correlated — e.g., Area and Rooms. This inflates standard errors and makes coefficients unstable.\n",
        "\n",
        " Solutions:\n",
        "\n",
        "Detect with VIF (Variance Inflation Factor):\n",
        "\n",
        "Drop variables with high VIF (>10).\n",
        "\n",
        "Feature Engineering:\n",
        "\n",
        "Combine correlated predictors into one (e.g., create “Area per Room” or use “Total Living Space”).\n",
        "\n",
        "Regularization Methods:\n",
        "\n",
        "Use Ridge Regression (L2) to shrink coefficients of correlated predictors.\n",
        "\n",
        "Use Lasso Regression (L1) to perform feature selection.\n",
        "\n",
        "3. Ensuring a Robust Model\n",
        "\n",
        "Cross-validation: Evaluate performance stability across folds.\n",
        "\n",
        "Check residual plots: Verify that heteroscedasticity has been reduced.\n",
        "\n",
        "Recompute VIFs: Ensure no severe multicollinearity remains.\n",
        "\n",
        "Model alternatives: Consider tree-based models (Random Forest, Gradient Boosting) since they are less sensitive to multicollinearity and heteroscedasticity."
      ],
      "metadata": {
        "id": "bVRnA4Vkh_VM"
      }
    },
    {
      "cell_type": "code",
      "source": [],
      "metadata": {
        "id": "Fwbcu9iXgM-w"
      },
      "execution_count": null,
      "outputs": []
    }
  ]
}